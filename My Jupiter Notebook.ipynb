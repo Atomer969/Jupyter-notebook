{
 "cells": [
  {
   "cell_type": "markdown",
   "id": "42c4a7da-5d00-48e8-9968-f88c511748ba",
   "metadata": {
    "tags": []
   },
   "source": [
    "# My Jupyter Notebook on IBM Watson Studio "
   ]
  },
  {
   "cell_type": "markdown",
   "id": "cb0a6b91-7dcb-4233-83cc-edb6857fee49",
   "metadata": {},
   "source": [
    "**Ella Sidi**\n",
    "\n",
    "Data Scientist"
   ]
  },
  {
   "cell_type": "markdown",
   "id": "a27f6476-956e-4ab5-814f-4c7beab7189e",
   "metadata": {},
   "source": [
    "### I am interested in data science because I want to make a huge impact on my organization by using its data to draw meaningful conclusions. "
   ]
  },
  {
   "cell_type": "markdown",
   "id": "22df5b44-6044-4fc1-bcd0-6d575938d28d",
   "metadata": {},
   "source": [
    "*This code will Find the sum of 56 and 78* "
   ]
  },
  {
   "cell_type": "code",
   "execution_count": 4,
   "id": "bb1a1e31-04eb-49c7-a4d4-bf3496a817cb",
   "metadata": {},
   "outputs": [
    {
     "data": {
      "text/plain": [
       "134"
      ]
     },
     "execution_count": 4,
     "metadata": {},
     "output_type": "execute_result"
    }
   ],
   "source": [
    "56+78"
   ]
  },
  {
   "cell_type": "markdown",
   "id": "40587db9-c245-4ea5-869f-4fa61214172b",
   "metadata": {},
   "source": [
    "fruits|vegetables\n",
    "-----|-----\n",
    "apple|spinach\n",
    "orange|kale\n",
    "\n",
    "<a href=\"https://www.coursera.org/\">Coursera Homepage</a> \n",
    "\n",
    "Programming languages\n",
    "\n",
    "---\n",
    "\n",
    "SQL\n"
   ]
  },
  {
   "cell_type": "code",
   "execution_count": null,
   "id": "ab7d2ed2-1b48-46e6-b699-752b3b6d79e1",
   "metadata": {},
   "outputs": [],
   "source": []
  }
 ],
 "metadata": {
  "kernelspec": {
   "display_name": "Python",
   "language": "python",
   "name": "conda-env-python-py"
  },
  "language_info": {
   "codemirror_mode": {
    "name": "ipython",
    "version": 3
   },
   "file_extension": ".py",
   "mimetype": "text/x-python",
   "name": "python",
   "nbconvert_exporter": "python",
   "pygments_lexer": "ipython3",
   "version": "3.7.12"
  }
 },
 "nbformat": 4,
 "nbformat_minor": 5
}
